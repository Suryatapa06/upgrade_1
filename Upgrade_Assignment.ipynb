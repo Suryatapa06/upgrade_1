{
 "cells": [
  {
   "cell_type": "code",
   "execution_count": 8,
   "id": "0f3b19e5",
   "metadata": {},
   "outputs": [
    {
     "name": "stdout",
     "output_type": "stream",
     "text": [
      "Enter the age: 80\n",
      "You are a senior\n"
     ]
    }
   ],
   "source": [
    "age=int(input(\"Enter the age: \"))\n",
    "if(age<18):\n",
    "    print(\"You are a minor\")\n",
    "elif(age>=18 and age<65):\n",
    "    print(\"You are an adult\")\n",
    "elif(age>=65):\n",
    "    print(\"You are a senior\")\n",
    "        "
   ]
  }
 ],
 "metadata": {
  "kernelspec": {
   "display_name": "Python 3 (ipykernel)",
   "language": "python",
   "name": "python3"
  },
  "language_info": {
   "codemirror_mode": {
    "name": "ipython",
    "version": 3
   },
   "file_extension": ".py",
   "mimetype": "text/x-python",
   "name": "python",
   "nbconvert_exporter": "python",
   "pygments_lexer": "ipython3",
   "version": "3.9.12"
  }
 },
 "nbformat": 4,
 "nbformat_minor": 5
}
